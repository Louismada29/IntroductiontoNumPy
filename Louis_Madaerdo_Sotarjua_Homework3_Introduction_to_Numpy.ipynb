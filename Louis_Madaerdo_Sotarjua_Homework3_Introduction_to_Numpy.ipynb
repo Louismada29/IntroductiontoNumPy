{
  "nbformat": 4,
  "nbformat_minor": 0,
  "metadata": {
    "colab": {
      "name": "Louis_Madaerdo_Sotarjua_Homework3_Introduction_to_Numpy.ipynb",
      "provenance": [],
      "authorship_tag": "ABX9TyNDAanLrvv+AdKN7zEOonqR",
      "include_colab_link": true
    },
    "kernelspec": {
      "name": "python3",
      "display_name": "Python 3"
    },
    "language_info": {
      "name": "python"
    }
  },
  "cells": [
    {
      "cell_type": "markdown",
      "metadata": {
        "id": "view-in-github",
        "colab_type": "text"
      },
      "source": [
        "<a href=\"https://colab.research.google.com/github/Louismada29/IntroductiontoNumPy/blob/main/Louis_Madaerdo_Sotarjua_Homework3_Introduction_to_Numpy.ipynb\" target=\"_parent\"><img src=\"https://colab.research.google.com/assets/colab-badge.svg\" alt=\"Open In Colab\"/></a>"
      ]
    },
    {
      "cell_type": "code",
      "metadata": {
        "id": "HevASx1ORfb0",
        "colab": {
          "base_uri": "https://localhost:8080/"
        },
        "outputId": "eb4eb7cc-a433-4660-ca30-c31b39c5bfc9"
      },
      "source": [
        "!pip install numpy"
      ],
      "execution_count": 2,
      "outputs": [
        {
          "output_type": "stream",
          "name": "stdout",
          "text": [
            "Requirement already satisfied: numpy in /usr/local/lib/python3.7/dist-packages (1.19.5)\n"
          ]
        }
      ]
    },
    {
      "cell_type": "code",
      "metadata": {
        "id": "KQA5zXuORokZ"
      },
      "source": [
        "import numpy as np"
      ],
      "execution_count": 1,
      "outputs": []
    },
    {
      "cell_type": "code",
      "metadata": {
        "id": "UXawkio-PcAk",
        "colab": {
          "base_uri": "https://localhost:8080/"
        },
        "outputId": "53f62605-4c85-4aa9-90ad-50a87863ad67"
      },
      "source": [
        "def get_inverse_matrix_2d(M):\n",
        "    if np.linalg.inv(M).all() != 0:\n",
        "      adj_M = \"Matrix memiliki inverse\"\n",
        "      print(np.linalg.inv(M))\n",
        "    else:\n",
        "      adj_M = \"Matrix tidak memiliki inverse\"\n",
        "\n",
        "    return adj_M\n",
        "\n",
        "M = np.array([[4, 7],\n",
        "              [2, 6]])\n",
        "print(get_inverse_matrix_2d(M))\n"
      ],
      "execution_count": 3,
      "outputs": [
        {
          "output_type": "stream",
          "name": "stdout",
          "text": [
            "[[ 0.6 -0.7]\n",
            " [-0.2  0.4]]\n",
            "Matrix memiliki inverse\n"
          ]
        }
      ]
    }
  ]
}